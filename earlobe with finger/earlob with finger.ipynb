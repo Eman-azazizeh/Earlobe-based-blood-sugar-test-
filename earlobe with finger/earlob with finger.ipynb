{
 "cells": [
  {
   "cell_type": "code",
   "execution_count": 1,
   "id": "99b75118",
   "metadata": {},
   "outputs": [],
   "source": [
    "import numpy as np\n",
    "import pandas as pd"
   ]
  },
  {
   "cell_type": "code",
   "execution_count": 3,
   "id": "5dc86764",
   "metadata": {},
   "outputs": [
    {
     "data": {
      "text/html": [
       "<div>\n",
       "<style scoped>\n",
       "    .dataframe tbody tr th:only-of-type {\n",
       "        vertical-align: middle;\n",
       "    }\n",
       "\n",
       "    .dataframe tbody tr th {\n",
       "        vertical-align: top;\n",
       "    }\n",
       "\n",
       "    .dataframe thead th {\n",
       "        text-align: right;\n",
       "    }\n",
       "</style>\n",
       "<table border=\"1\" class=\"dataframe\">\n",
       "  <thead>\n",
       "    <tr style=\"text-align: right;\">\n",
       "      <th></th>\n",
       "      <th>Sex</th>\n",
       "      <th>Age</th>\n",
       "      <th>Earlob</th>\n",
       "      <th>Finger</th>\n",
       "    </tr>\n",
       "  </thead>\n",
       "  <tbody>\n",
       "    <tr>\n",
       "      <th>0</th>\n",
       "      <td>male</td>\n",
       "      <td>59</td>\n",
       "      <td>94</td>\n",
       "      <td>100</td>\n",
       "    </tr>\n",
       "    <tr>\n",
       "      <th>1</th>\n",
       "      <td>male</td>\n",
       "      <td>55</td>\n",
       "      <td>277</td>\n",
       "      <td>293</td>\n",
       "    </tr>\n",
       "    <tr>\n",
       "      <th>2</th>\n",
       "      <td>male</td>\n",
       "      <td>39</td>\n",
       "      <td>97</td>\n",
       "      <td>104</td>\n",
       "    </tr>\n",
       "    <tr>\n",
       "      <th>3</th>\n",
       "      <td>male</td>\n",
       "      <td>65</td>\n",
       "      <td>119</td>\n",
       "      <td>122</td>\n",
       "    </tr>\n",
       "    <tr>\n",
       "      <th>4</th>\n",
       "      <td>male</td>\n",
       "      <td>54</td>\n",
       "      <td>96</td>\n",
       "      <td>94</td>\n",
       "    </tr>\n",
       "    <tr>\n",
       "      <th>5</th>\n",
       "      <td>female</td>\n",
       "      <td>50</td>\n",
       "      <td>120</td>\n",
       "      <td>118</td>\n",
       "    </tr>\n",
       "    <tr>\n",
       "      <th>6</th>\n",
       "      <td>male</td>\n",
       "      <td>43</td>\n",
       "      <td>83</td>\n",
       "      <td>84</td>\n",
       "    </tr>\n",
       "    <tr>\n",
       "      <th>7</th>\n",
       "      <td>male</td>\n",
       "      <td>63</td>\n",
       "      <td>81</td>\n",
       "      <td>84</td>\n",
       "    </tr>\n",
       "    <tr>\n",
       "      <th>8</th>\n",
       "      <td>male</td>\n",
       "      <td>63</td>\n",
       "      <td>78</td>\n",
       "      <td>79</td>\n",
       "    </tr>\n",
       "    <tr>\n",
       "      <th>9</th>\n",
       "      <td>male</td>\n",
       "      <td>52</td>\n",
       "      <td>115</td>\n",
       "      <td>100</td>\n",
       "    </tr>\n",
       "  </tbody>\n",
       "</table>\n",
       "</div>"
      ],
      "text/plain": [
       "      Sex  Age  Earlob  Finger\n",
       "0    male   59      94     100\n",
       "1    male   55     277     293\n",
       "2    male   39      97     104\n",
       "3    male   65     119     122\n",
       "4    male   54      96      94\n",
       "5  female   50     120     118\n",
       "6    male   43      83      84\n",
       "7    male   63      81      84\n",
       "8    male   63      78      79\n",
       "9    male   52     115     100"
      ]
     },
     "execution_count": 3,
     "metadata": {},
     "output_type": "execute_result"
    }
   ],
   "source": [
    "data=pd.read_csv('finger_&_earlob_data.csv')\n",
    "data.head(10)"
   ]
  },
  {
   "cell_type": "code",
   "execution_count": 4,
   "id": "76d57eb0",
   "metadata": {},
   "outputs": [
    {
     "data": {
      "text/html": [
       "<div>\n",
       "<style scoped>\n",
       "    .dataframe tbody tr th:only-of-type {\n",
       "        vertical-align: middle;\n",
       "    }\n",
       "\n",
       "    .dataframe tbody tr th {\n",
       "        vertical-align: top;\n",
       "    }\n",
       "\n",
       "    .dataframe thead th {\n",
       "        text-align: right;\n",
       "    }\n",
       "</style>\n",
       "<table border=\"1\" class=\"dataframe\">\n",
       "  <thead>\n",
       "    <tr style=\"text-align: right;\">\n",
       "      <th></th>\n",
       "      <th>Sex</th>\n",
       "      <th>Age</th>\n",
       "      <th>Earlob</th>\n",
       "      <th>Finger</th>\n",
       "    </tr>\n",
       "  </thead>\n",
       "  <tbody>\n",
       "    <tr>\n",
       "      <th>0</th>\n",
       "      <td>1</td>\n",
       "      <td>59</td>\n",
       "      <td>94</td>\n",
       "      <td>100</td>\n",
       "    </tr>\n",
       "    <tr>\n",
       "      <th>1</th>\n",
       "      <td>1</td>\n",
       "      <td>55</td>\n",
       "      <td>277</td>\n",
       "      <td>293</td>\n",
       "    </tr>\n",
       "    <tr>\n",
       "      <th>2</th>\n",
       "      <td>1</td>\n",
       "      <td>39</td>\n",
       "      <td>97</td>\n",
       "      <td>104</td>\n",
       "    </tr>\n",
       "    <tr>\n",
       "      <th>3</th>\n",
       "      <td>1</td>\n",
       "      <td>65</td>\n",
       "      <td>119</td>\n",
       "      <td>122</td>\n",
       "    </tr>\n",
       "    <tr>\n",
       "      <th>4</th>\n",
       "      <td>1</td>\n",
       "      <td>54</td>\n",
       "      <td>96</td>\n",
       "      <td>94</td>\n",
       "    </tr>\n",
       "    <tr>\n",
       "      <th>5</th>\n",
       "      <td>0</td>\n",
       "      <td>50</td>\n",
       "      <td>120</td>\n",
       "      <td>118</td>\n",
       "    </tr>\n",
       "    <tr>\n",
       "      <th>6</th>\n",
       "      <td>1</td>\n",
       "      <td>43</td>\n",
       "      <td>83</td>\n",
       "      <td>84</td>\n",
       "    </tr>\n",
       "    <tr>\n",
       "      <th>7</th>\n",
       "      <td>1</td>\n",
       "      <td>63</td>\n",
       "      <td>81</td>\n",
       "      <td>84</td>\n",
       "    </tr>\n",
       "    <tr>\n",
       "      <th>8</th>\n",
       "      <td>1</td>\n",
       "      <td>63</td>\n",
       "      <td>78</td>\n",
       "      <td>79</td>\n",
       "    </tr>\n",
       "    <tr>\n",
       "      <th>9</th>\n",
       "      <td>1</td>\n",
       "      <td>52</td>\n",
       "      <td>115</td>\n",
       "      <td>100</td>\n",
       "    </tr>\n",
       "  </tbody>\n",
       "</table>\n",
       "</div>"
      ],
      "text/plain": [
       "   Sex  Age  Earlob  Finger\n",
       "0    1   59      94     100\n",
       "1    1   55     277     293\n",
       "2    1   39      97     104\n",
       "3    1   65     119     122\n",
       "4    1   54      96      94\n",
       "5    0   50     120     118\n",
       "6    1   43      83      84\n",
       "7    1   63      81      84\n",
       "8    1   63      78      79\n",
       "9    1   52     115     100"
      ]
     },
     "execution_count": 4,
     "metadata": {},
     "output_type": "execute_result"
    }
   ],
   "source": [
    "#convert the sex from categorical data to numerical data by using lambda \n",
    "data['Sex']= data['Sex'].apply(lambda x: 1 if x == 'male' else (0 if x ==\"female\" else np.nan))\n",
    "data.head(10)"
   ]
  },
  {
   "cell_type": "code",
   "execution_count": 6,
   "id": "55cca718",
   "metadata": {},
   "outputs": [
    {
     "name": "stdout",
     "output_type": "stream",
     "text": [
      "X= \n",
      " [[  1  59  94]\n",
      " [  1  55 277]\n",
      " [  1  39  97]\n",
      " [  1  65 119]\n",
      " [  1  54  96]\n",
      " [  0  50 120]\n",
      " [  1  43  83]\n",
      " [  1  63  81]\n",
      " [  1  63  78]\n",
      " [  1  52 115]\n",
      " [  0  62  99]\n",
      " [  0  48 140]\n",
      " [  0  63 116]\n",
      " [  1  41  80]\n",
      " [  0  43 107]\n",
      " [  0  77 171]\n",
      " [  1  49 108]\n",
      " [  1  25  93]\n",
      " [  0  43 140]\n",
      " [  0  48 256]\n",
      " [  0  72  98]\n",
      " [  0  21  86]\n",
      " [  0  58 131]\n",
      " [  0  65 110]\n",
      " [  0  34 171]\n",
      " [  0  45 229]\n",
      " [  0  52 154]\n",
      " [  0  72 104]\n",
      " [  0  50 380]\n",
      " [  0  59 277]\n",
      " [  0  45  93]\n",
      " [  0  34  92]\n",
      " [  0  64  78]\n",
      " [  0  25 154]\n",
      " [  0  25  86]\n",
      " [  1  22  93]\n",
      " [  1  63 228]\n",
      " [  1  58 105]\n",
      " [  1  35  77]\n",
      " [  1  43 187]\n",
      " [  1  56  88]\n",
      " [  1  22 117]\n",
      " [  1  53  92]\n",
      " [  1  43  89]\n",
      " [  1  51  87]\n",
      " [  1  71 267]\n",
      " [  1  48 127]\n",
      " [  1  64  98]\n",
      " [  0  42  80]]\n",
      "_____________________________________________\n",
      "y=\n",
      " [100 293 104 122  94 118  84  84  79 100 105 143 120  94 114 176  90  99\n",
      " 149 245  92  89 146 120 167 246 155 108 380 265  96 108  76 189  88  95\n",
      " 223  99  80 197  89 127  90  95  88 261 133 109  91]\n"
     ]
    }
   ],
   "source": [
    "#split data\n",
    "X=data.drop(['Finger'],axis=1).values\n",
    "\n",
    "y=data['Finger'].values\n",
    "print(\"X= \\n\",X)\n",
    "print(\"_____________________________________________\")\n",
    "print(\"y=\\n\",y)"
   ]
  },
  {
   "cell_type": "code",
   "execution_count": 7,
   "id": "ea50c05d",
   "metadata": {},
   "outputs": [
    {
     "data": {
      "image/png": "[encoded data removed]",
      "text/plain": [
       "<Figure size 1440x1080 with 4 Axes>"
      ]
     },
     "metadata": {
      "needs_background": "light"
     },
     "output_type": "display_data"
    }
   ],
   "source": [
    "%matplotlib inline \n",
    "import matplotlib.pyplot as plt\n",
    "data.hist(bins=50, figsize=(20,15))\n",
    "plt.show()"
   ]
  },
  {
   "cell_type": "code",
   "execution_count": 8,
   "id": "c6e10ec2",
   "metadata": {},
   "outputs": [
    {
     "data": {
      "text/html": [
       "<div>\n",
       "<style scoped>\n",
       "    .dataframe tbody tr th:only-of-type {\n",
       "        vertical-align: middle;\n",
       "    }\n",
       "\n",
       "    .dataframe tbody tr th {\n",
       "        vertical-align: top;\n",
       "    }\n",
       "\n",
       "    .dataframe thead th {\n",
       "        text-align: right;\n",
       "    }\n",
       "</style>\n",
       "<table border=\"1\" class=\"dataframe\">\n",
       "  <thead>\n",
       "    <tr style=\"text-align: right;\">\n",
       "      <th></th>\n",
       "      <th>Sex</th>\n",
       "      <th>Age</th>\n",
       "      <th>Earlob</th>\n",
       "      <th>Finger</th>\n",
       "    </tr>\n",
       "  </thead>\n",
       "  <tbody>\n",
       "    <tr>\n",
       "      <th>count</th>\n",
       "      <td>49.000000</td>\n",
       "      <td>49.000000</td>\n",
       "      <td>49.000000</td>\n",
       "      <td>49.000000</td>\n",
       "    </tr>\n",
       "    <tr>\n",
       "      <th>mean</th>\n",
       "      <td>0.510204</td>\n",
       "      <td>49.673469</td>\n",
       "      <td>131.591837</td>\n",
       "      <td>135.000000</td>\n",
       "    </tr>\n",
       "    <tr>\n",
       "      <th>std</th>\n",
       "      <td>0.505076</td>\n",
       "      <td>14.270289</td>\n",
       "      <td>66.407805</td>\n",
       "      <td>66.150397</td>\n",
       "    </tr>\n",
       "    <tr>\n",
       "      <th>min</th>\n",
       "      <td>0.000000</td>\n",
       "      <td>21.000000</td>\n",
       "      <td>77.000000</td>\n",
       "      <td>76.000000</td>\n",
       "    </tr>\n",
       "    <tr>\n",
       "      <th>25%</th>\n",
       "      <td>0.000000</td>\n",
       "      <td>43.000000</td>\n",
       "      <td>92.000000</td>\n",
       "      <td>92.000000</td>\n",
       "    </tr>\n",
       "    <tr>\n",
       "      <th>50%</th>\n",
       "      <td>1.000000</td>\n",
       "      <td>50.000000</td>\n",
       "      <td>105.000000</td>\n",
       "      <td>108.000000</td>\n",
       "    </tr>\n",
       "    <tr>\n",
       "      <th>75%</th>\n",
       "      <td>1.000000</td>\n",
       "      <td>62.000000</td>\n",
       "      <td>140.000000</td>\n",
       "      <td>149.000000</td>\n",
       "    </tr>\n",
       "    <tr>\n",
       "      <th>max</th>\n",
       "      <td>1.000000</td>\n",
       "      <td>77.000000</td>\n",
       "      <td>380.000000</td>\n",
       "      <td>380.000000</td>\n",
       "    </tr>\n",
       "  </tbody>\n",
       "</table>\n",
       "</div>"
      ],
      "text/plain": [
       "             Sex        Age      Earlob      Finger\n",
       "count  49.000000  49.000000   49.000000   49.000000\n",
       "mean    0.510204  49.673469  131.591837  135.000000\n",
       "std     0.505076  14.270289   66.407805   66.150397\n",
       "min     0.000000  21.000000   77.000000   76.000000\n",
       "25%     0.000000  43.000000   92.000000   92.000000\n",
       "50%     1.000000  50.000000  105.000000  108.000000\n",
       "75%     1.000000  62.000000  140.000000  149.000000\n",
       "max     1.000000  77.000000  380.000000  380.000000"
      ]
     },
     "execution_count": 8,
     "metadata": {},
     "output_type": "execute_result"
    }
   ],
   "source": [
    "data.describe()"
   ]
  },
  {
   "cell_type": "code",
   "execution_count": 9,
   "id": "104f88e1",
   "metadata": {},
   "outputs": [],
   "source": [
    "from sklearn.model_selection import train_test_split\n",
    "x_train,x_test,y_train,y_test=train_test_split(X,y,test_size=0.2,random_state=2)\n"
   ]
  },
  {
   "cell_type": "code",
   "execution_count": 10,
   "id": "af13bd04",
   "metadata": {},
   "outputs": [
    {
     "data": {
      "text/plain": [
       "LinearRegression()"
      ]
     },
     "execution_count": 10,
     "metadata": {},
     "output_type": "execute_result"
    }
   ],
   "source": [
    "from sklearn.linear_model import LinearRegression\n",
    "\n",
    "lr=LinearRegression()\n",
    "lr.fit(x_train,y_train)"
   ]
  },
  {
   "cell_type": "code",
   "execution_count": 11,
   "id": "fa2d9285",
   "metadata": {},
   "outputs": [],
   "source": [
    "y_pred=lr.predict(x_test)"
   ]
  },
  {
   "cell_type": "code",
   "execution_count": 12,
   "id": "620d8710",
   "metadata": {},
   "outputs": [
    {
     "name": "stdout",
     "output_type": "stream",
     "text": [
      "[110.88962061 117.32127666  93.66545388 110.50424967 101.91999788\n",
      "  89.1645298   97.05231155  84.54958595 113.06074358  94.24790416]\n"
     ]
    }
   ],
   "source": [
    "print(y_pred)"
   ]
  },
  {
   "cell_type": "code",
   "execution_count": 13,
   "id": "fb96060b",
   "metadata": {},
   "outputs": [
    {
     "name": "stdout",
     "output_type": "stream",
     "text": [
      "[120 120  90  90  95  88 109  94 114 100] \n",
      " [110.88962061 117.32127666  93.66545388 110.50424967 101.91999788\n",
      "  89.1645298   97.05231155  84.54958595 113.06074358  94.24790416]\n"
     ]
    }
   ],
   "source": [
    "print(y_test,'\\n',y_pred)"
   ]
  },
  {
   "cell_type": "code",
   "execution_count": 14,
   "id": "1c590286",
   "metadata": {},
   "outputs": [
    {
     "name": "stdout",
     "output_type": "stream",
     "text": [
      "[  9.11037939   2.67872334  -3.66545388 -20.50424967  -6.91999788\n",
      "  -1.1645298   11.94768845   9.45041405   0.93925642   5.75209584]\n"
     ]
    }
   ],
   "source": [
    "z=y_test-y_pred\n",
    "print(z)"
   ]
  },
  {
   "cell_type": "code",
   "execution_count": 16,
   "id": "e96ff4af",
   "metadata": {},
   "outputs": [
    {
     "data": {
      "text/plain": [
       "array([[<AxesSubplot:xlabel='Finger', ylabel='Finger'>,\n",
       "        <AxesSubplot:xlabel='Earlob', ylabel='Finger'>,\n",
       "        <AxesSubplot:xlabel='Sex', ylabel='Finger'>,\n",
       "        <AxesSubplot:xlabel='Age', ylabel='Finger'>],\n",
       "       [<AxesSubplot:xlabel='Finger', ylabel='Earlob'>,\n",
       "        <AxesSubplot:xlabel='Earlob', ylabel='Earlob'>,\n",
       "        <AxesSubplot:xlabel='Sex', ylabel='Earlob'>,\n",
       "        <AxesSubplot:xlabel='Age', ylabel='Earlob'>],\n",
       "       [<AxesSubplot:xlabel='Finger', ylabel='Sex'>,\n",
       "        <AxesSubplot:xlabel='Earlob', ylabel='Sex'>,\n",
       "        <AxesSubplot:xlabel='Sex', ylabel='Sex'>,\n",
       "        <AxesSubplot:xlabel='Age', ylabel='Sex'>],\n",
       "       [<AxesSubplot:xlabel='Finger', ylabel='Age'>,\n",
       "        <AxesSubplot:xlabel='Earlob', ylabel='Age'>,\n",
       "        <AxesSubplot:xlabel='Sex', ylabel='Age'>,\n",
       "        <AxesSubplot:xlabel='Age', ylabel='Age'>]], dtype=object)"
      ]
     },
     "execution_count": 16,
     "metadata": {},
     "output_type": "execute_result"
    },
    {
     "data": {
      "image/png": "[encoded data removed]",
      "text/plain": [
       "<Figure size 864x576 with 16 Axes>"
      ]
     },
     "metadata": {
      "needs_background": "light"
     },
     "output_type": "display_data"
    }
   ],
   "source": [
    "from pandas.plotting import scatter_matrix\n",
    "attributes = [\"Finger\",  \"Earlob\",\n",
    "\"Sex\",\"Age\"]\n",
    "scatter_matrix(data[attributes], figsize=(12, 8))"
   ]
  },
  {
   "cell_type": "code",
   "execution_count": 17,
   "id": "c47a58f8",
   "metadata": {},
   "outputs": [
    {
     "data": {
      "text/plain": [
       "9.161349641314231"
      ]
     },
     "execution_count": 17,
     "metadata": {},
     "output_type": "execute_result"
    }
   ],
   "source": [
    "from sklearn.metrics import mean_squared_error\n",
    "lin_mse = mean_squared_error(y_test, y_pred)\n",
    "lin_rmse = np.sqrt(lin_mse)\n",
    "lin_rmse"
   ]
  },
  {
   "cell_type": "code",
   "execution_count": 18,
   "id": "638e10c2",
   "metadata": {},
   "outputs": [
    {
     "name": "stdout",
     "output_type": "stream",
     "text": [
      "mae 7.213278871948651\n",
      "mse 83.9303272504084\n",
      "rmse 9.161349641314231\n"
     ]
    }
   ],
   "source": [
    "from sklearn import metrics\n",
    "#print result of mae\n",
    "print(\"mae\",metrics.mean_absolute_error(y_test,y_pred))\n",
    "print(\"mse\",metrics.mean_squared_error(y_test,y_pred))\n",
    "print(\"rmse\",(np.sqrt(metrics.mean_squared_error(y_test,y_pred))))"
   ]
  },
  {
   "cell_type": "code",
   "execution_count": 19,
   "id": "f21198cd",
   "metadata": {},
   "outputs": [
    {
     "name": "stderr",
     "output_type": "stream",
     "text": [
      "C:\\Users\\emana\\anaconda3\\lib\\site-packages\\seaborn\\axisgrid.py:2076: UserWarning: The `size` parameter has been renamed to `height`; please update your code.\n",
      "  warnings.warn(msg, UserWarning)\n"
     ]
    },
    {
     "data": {
      "text/plain": [
       "<seaborn.axisgrid.PairGrid at 0x2c0fa8dfaf0>"
      ]
     },
     "execution_count": 19,
     "metadata": {},
     "output_type": "execute_result"
    },
    {
     "data": {
      "image/png": "[encoded data removed]",
      "text/plain": [
       "<Figure size 1058.4x504 with 3 Axes>"
      ]
     },
     "metadata": {
      "needs_background": "light"
     },
     "output_type": "display_data"
    }
   ],
   "source": [
    "import seaborn as sns\n",
    "\n",
    "sns.pairplot(data, x_vars=['Age','Sex','Earlob'], y_vars='Finger', size=7, aspect=0.7, kind='reg')\n"
   ]
  },
  {
   "cell_type": "code",
   "execution_count": null,
   "id": "6a0de686",
   "metadata": {},
   "outputs": [],
   "source": []
  }
 ],
 "metadata": {
  "kernelspec": {
   "display_name": "Python 3 (ipykernel)",
   "language": "python",
   "name": "python3"
  },
  "language_info": {
   "codemirror_mode": {
    "name": "ipython",
    "version": 3
   },
   "file_extension": ".py",
   "mimetype": "text/x-python",
   "name": "python",
   "nbconvert_exporter": "python",
   "pygments_lexer": "ipython3",
   "version": "3.9.7"
  }
 },
 "nbformat": 4,
 "nbformat_minor": 5
}
